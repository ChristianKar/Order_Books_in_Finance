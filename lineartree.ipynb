{
 "cells": [
  {
   "cell_type": "code",
   "execution_count": 76,
   "id": "7a11c180",
   "metadata": {},
   "outputs": [],
   "source": [
    "import pandas as pd\n",
    "import numpy as np\n",
    "import scipy as sp\n",
    "import matplotlib.pyplot as plt\n",
    "import seaborn as sns"
   ]
  },
  {
   "cell_type": "code",
   "execution_count": 77,
   "id": "84e9465c",
   "metadata": {},
   "outputs": [
    {
     "data": {
      "text/html": [
       "<div>\n",
       "<style scoped>\n",
       "    .dataframe tbody tr th:only-of-type {\n",
       "        vertical-align: middle;\n",
       "    }\n",
       "\n",
       "    .dataframe tbody tr th {\n",
       "        vertical-align: top;\n",
       "    }\n",
       "\n",
       "    .dataframe thead th {\n",
       "        text-align: right;\n",
       "    }\n",
       "</style>\n",
       "<table border=\"1\" class=\"dataframe\">\n",
       "  <thead>\n",
       "    <tr style=\"text-align: right;\">\n",
       "      <th></th>\n",
       "      <th>bid-price</th>\n",
       "      <th>bid-volume</th>\n",
       "      <th>ask-price</th>\n",
       "      <th>ask-volume</th>\n",
       "    </tr>\n",
       "    <tr>\n",
       "      <th>time</th>\n",
       "      <th></th>\n",
       "      <th></th>\n",
       "      <th></th>\n",
       "      <th></th>\n",
       "    </tr>\n",
       "  </thead>\n",
       "  <tbody>\n",
       "    <tr>\n",
       "      <th>2008-01-02 14:31:59.900999680</th>\n",
       "      <td>NaN</td>\n",
       "      <td>NaN</td>\n",
       "      <td>NaN</td>\n",
       "      <td>NaN</td>\n",
       "    </tr>\n",
       "    <tr>\n",
       "      <th>2008-01-02 14:31:59.900999680</th>\n",
       "      <td>0.000000</td>\n",
       "      <td>0.000000</td>\n",
       "      <td>0.0</td>\n",
       "      <td>-0.089612</td>\n",
       "    </tr>\n",
       "    <tr>\n",
       "      <th>2008-01-02 14:31:59.900999680</th>\n",
       "      <td>0.000000</td>\n",
       "      <td>0.875469</td>\n",
       "      <td>0.0</td>\n",
       "      <td>0.000000</td>\n",
       "    </tr>\n",
       "    <tr>\n",
       "      <th>2008-01-02 14:31:59.900999680</th>\n",
       "      <td>0.000000</td>\n",
       "      <td>0.000000</td>\n",
       "      <td>0.0</td>\n",
       "      <td>-0.015748</td>\n",
       "    </tr>\n",
       "    <tr>\n",
       "      <th>2008-01-02 14:31:59.900999680</th>\n",
       "      <td>0.000000</td>\n",
       "      <td>-0.875469</td>\n",
       "      <td>0.0</td>\n",
       "      <td>0.000000</td>\n",
       "    </tr>\n",
       "    <tr>\n",
       "      <th>2008-01-02 14:31:59.948000000</th>\n",
       "      <td>-0.000616</td>\n",
       "      <td>-0.916291</td>\n",
       "      <td>0.0</td>\n",
       "      <td>0.000000</td>\n",
       "    </tr>\n",
       "    <tr>\n",
       "      <th>2008-01-02 14:31:59.948000000</th>\n",
       "      <td>0.000770</td>\n",
       "      <td>-0.693147</td>\n",
       "      <td>0.0</td>\n",
       "      <td>0.000000</td>\n",
       "    </tr>\n",
       "    <tr>\n",
       "      <th>2008-01-02 14:31:59.948000000</th>\n",
       "      <td>-0.000770</td>\n",
       "      <td>0.693147</td>\n",
       "      <td>0.0</td>\n",
       "      <td>0.000000</td>\n",
       "    </tr>\n",
       "    <tr>\n",
       "      <th>2008-01-02 14:31:59.968999936</th>\n",
       "      <td>-0.000771</td>\n",
       "      <td>2.708050</td>\n",
       "      <td>0.0</td>\n",
       "      <td>0.000000</td>\n",
       "    </tr>\n",
       "    <tr>\n",
       "      <th>2008-01-02 14:32:00.036000000</th>\n",
       "      <td>0.000000</td>\n",
       "      <td>0.000000</td>\n",
       "      <td>0.0</td>\n",
       "      <td>-0.032261</td>\n",
       "    </tr>\n",
       "  </tbody>\n",
       "</table>\n",
       "</div>"
      ],
      "text/plain": [
       "                               bid-price  bid-volume  ask-price  ask-volume\n",
       "time                                                                       \n",
       "2008-01-02 14:31:59.900999680        NaN         NaN        NaN         NaN\n",
       "2008-01-02 14:31:59.900999680   0.000000    0.000000        0.0   -0.089612\n",
       "2008-01-02 14:31:59.900999680   0.000000    0.875469        0.0    0.000000\n",
       "2008-01-02 14:31:59.900999680   0.000000    0.000000        0.0   -0.015748\n",
       "2008-01-02 14:31:59.900999680   0.000000   -0.875469        0.0    0.000000\n",
       "2008-01-02 14:31:59.948000000  -0.000616   -0.916291        0.0    0.000000\n",
       "2008-01-02 14:31:59.948000000   0.000770   -0.693147        0.0    0.000000\n",
       "2008-01-02 14:31:59.948000000  -0.000770    0.693147        0.0    0.000000\n",
       "2008-01-02 14:31:59.968999936  -0.000771    2.708050        0.0    0.000000\n",
       "2008-01-02 14:32:00.036000000   0.000000    0.000000        0.0   -0.032261"
      ]
     },
     "execution_count": 77,
     "metadata": {},
     "output_type": "execute_result"
    }
   ],
   "source": [
    "#  Load data\n",
    "dataset  = pd.read_csv('2008-01-02-LEH.N-bbo.csv', index_col = 0)\n",
    "dataset.index = pd.DatetimeIndex(dataset.index)\n",
    "\n",
    "difference_set = np.log(dataset).diff()\n",
    "difference_set.head(10)"
   ]
  },
  {
   "cell_type": "code",
   "execution_count": 78,
   "id": "3827efaa",
   "metadata": {},
   "outputs": [
    {
     "data": {
      "text/html": [
       "<div>\n",
       "<style scoped>\n",
       "    .dataframe tbody tr th:only-of-type {\n",
       "        vertical-align: middle;\n",
       "    }\n",
       "\n",
       "    .dataframe tbody tr th {\n",
       "        vertical-align: top;\n",
       "    }\n",
       "\n",
       "    .dataframe thead th {\n",
       "        text-align: right;\n",
       "    }\n",
       "</style>\n",
       "<table border=\"1\" class=\"dataframe\">\n",
       "  <thead>\n",
       "    <tr style=\"text-align: right;\">\n",
       "      <th></th>\n",
       "      <th>bid-price</th>\n",
       "      <th>bid-volume</th>\n",
       "      <th>ask-price</th>\n",
       "      <th>ask-volume</th>\n",
       "    </tr>\n",
       "    <tr>\n",
       "      <th>time</th>\n",
       "      <th></th>\n",
       "      <th></th>\n",
       "      <th></th>\n",
       "      <th></th>\n",
       "    </tr>\n",
       "  </thead>\n",
       "  <tbody>\n",
       "    <tr>\n",
       "      <th>2008-01-02 14:31:59.900999680</th>\n",
       "      <td>64.95</td>\n",
       "      <td>5</td>\n",
       "      <td>65.0</td>\n",
       "      <td>70</td>\n",
       "    </tr>\n",
       "    <tr>\n",
       "      <th>2008-01-02 14:31:59.900999680</th>\n",
       "      <td>64.95</td>\n",
       "      <td>5</td>\n",
       "      <td>65.0</td>\n",
       "      <td>64</td>\n",
       "    </tr>\n",
       "    <tr>\n",
       "      <th>2008-01-02 14:31:59.900999680</th>\n",
       "      <td>64.95</td>\n",
       "      <td>12</td>\n",
       "      <td>65.0</td>\n",
       "      <td>64</td>\n",
       "    </tr>\n",
       "    <tr>\n",
       "      <th>2008-01-02 14:31:59.900999680</th>\n",
       "      <td>64.95</td>\n",
       "      <td>12</td>\n",
       "      <td>65.0</td>\n",
       "      <td>63</td>\n",
       "    </tr>\n",
       "    <tr>\n",
       "      <th>2008-01-02 14:31:59.900999680</th>\n",
       "      <td>64.95</td>\n",
       "      <td>5</td>\n",
       "      <td>65.0</td>\n",
       "      <td>63</td>\n",
       "    </tr>\n",
       "    <tr>\n",
       "      <th>2008-01-02 14:31:59.948000000</th>\n",
       "      <td>64.91</td>\n",
       "      <td>2</td>\n",
       "      <td>65.0</td>\n",
       "      <td>63</td>\n",
       "    </tr>\n",
       "    <tr>\n",
       "      <th>2008-01-02 14:31:59.948000000</th>\n",
       "      <td>64.96</td>\n",
       "      <td>1</td>\n",
       "      <td>65.0</td>\n",
       "      <td>63</td>\n",
       "    </tr>\n",
       "    <tr>\n",
       "      <th>2008-01-02 14:31:59.948000000</th>\n",
       "      <td>64.91</td>\n",
       "      <td>2</td>\n",
       "      <td>65.0</td>\n",
       "      <td>63</td>\n",
       "    </tr>\n",
       "    <tr>\n",
       "      <th>2008-01-02 14:31:59.968999936</th>\n",
       "      <td>64.86</td>\n",
       "      <td>30</td>\n",
       "      <td>65.0</td>\n",
       "      <td>63</td>\n",
       "    </tr>\n",
       "    <tr>\n",
       "      <th>2008-01-02 14:32:00.036000000</th>\n",
       "      <td>64.86</td>\n",
       "      <td>30</td>\n",
       "      <td>65.0</td>\n",
       "      <td>61</td>\n",
       "    </tr>\n",
       "  </tbody>\n",
       "</table>\n",
       "</div>"
      ],
      "text/plain": [
       "                               bid-price  bid-volume  ask-price  ask-volume\n",
       "time                                                                       \n",
       "2008-01-02 14:31:59.900999680      64.95           5       65.0          70\n",
       "2008-01-02 14:31:59.900999680      64.95           5       65.0          64\n",
       "2008-01-02 14:31:59.900999680      64.95          12       65.0          64\n",
       "2008-01-02 14:31:59.900999680      64.95          12       65.0          63\n",
       "2008-01-02 14:31:59.900999680      64.95           5       65.0          63\n",
       "2008-01-02 14:31:59.948000000      64.91           2       65.0          63\n",
       "2008-01-02 14:31:59.948000000      64.96           1       65.0          63\n",
       "2008-01-02 14:31:59.948000000      64.91           2       65.0          63\n",
       "2008-01-02 14:31:59.968999936      64.86          30       65.0          63\n",
       "2008-01-02 14:32:00.036000000      64.86          30       65.0          61"
      ]
     },
     "execution_count": 78,
     "metadata": {},
     "output_type": "execute_result"
    }
   ],
   "source": [
    "dataset.head(10)"
   ]
  },
  {
   "cell_type": "code",
   "execution_count": 79,
   "id": "66589ff2",
   "metadata": {},
   "outputs": [
    {
     "data": {
      "text/html": [
       "<div>\n",
       "<style scoped>\n",
       "    .dataframe tbody tr th:only-of-type {\n",
       "        vertical-align: middle;\n",
       "    }\n",
       "\n",
       "    .dataframe tbody tr th {\n",
       "        vertical-align: top;\n",
       "    }\n",
       "\n",
       "    .dataframe thead th {\n",
       "        text-align: right;\n",
       "    }\n",
       "</style>\n",
       "<table border=\"1\" class=\"dataframe\">\n",
       "  <thead>\n",
       "    <tr style=\"text-align: right;\">\n",
       "      <th></th>\n",
       "      <th>bid-price</th>\n",
       "      <th>bid-volume</th>\n",
       "      <th>ask-price</th>\n",
       "      <th>ask-volume</th>\n",
       "    </tr>\n",
       "    <tr>\n",
       "      <th>time</th>\n",
       "      <th></th>\n",
       "      <th></th>\n",
       "      <th></th>\n",
       "      <th></th>\n",
       "    </tr>\n",
       "  </thead>\n",
       "  <tbody>\n",
       "    <tr>\n",
       "      <th>2008-01-02 14:31:59.900999680</th>\n",
       "      <td>64.95</td>\n",
       "      <td>5</td>\n",
       "      <td>65.00</td>\n",
       "      <td>70</td>\n",
       "    </tr>\n",
       "    <tr>\n",
       "      <th>2008-01-02 14:31:59.900999680</th>\n",
       "      <td>64.95</td>\n",
       "      <td>5</td>\n",
       "      <td>65.00</td>\n",
       "      <td>64</td>\n",
       "    </tr>\n",
       "    <tr>\n",
       "      <th>2008-01-02 14:31:59.900999680</th>\n",
       "      <td>64.95</td>\n",
       "      <td>12</td>\n",
       "      <td>65.00</td>\n",
       "      <td>64</td>\n",
       "    </tr>\n",
       "    <tr>\n",
       "      <th>2008-01-02 14:31:59.900999680</th>\n",
       "      <td>64.95</td>\n",
       "      <td>12</td>\n",
       "      <td>65.00</td>\n",
       "      <td>63</td>\n",
       "    </tr>\n",
       "    <tr>\n",
       "      <th>2008-01-02 14:31:59.900999680</th>\n",
       "      <td>64.95</td>\n",
       "      <td>5</td>\n",
       "      <td>65.00</td>\n",
       "      <td>63</td>\n",
       "    </tr>\n",
       "    <tr>\n",
       "      <th>...</th>\n",
       "      <td>...</td>\n",
       "      <td>...</td>\n",
       "      <td>...</td>\n",
       "      <td>...</td>\n",
       "    </tr>\n",
       "    <tr>\n",
       "      <th>2008-01-02 20:59:59.602999552</th>\n",
       "      <td>62.23</td>\n",
       "      <td>13</td>\n",
       "      <td>62.24</td>\n",
       "      <td>5</td>\n",
       "    </tr>\n",
       "    <tr>\n",
       "      <th>2008-01-02 20:59:59.668000000</th>\n",
       "      <td>62.23</td>\n",
       "      <td>33</td>\n",
       "      <td>62.24</td>\n",
       "      <td>5</td>\n",
       "    </tr>\n",
       "    <tr>\n",
       "      <th>2008-01-02 21:00:00.089000192</th>\n",
       "      <td>62.23</td>\n",
       "      <td>23</td>\n",
       "      <td>62.24</td>\n",
       "      <td>5</td>\n",
       "    </tr>\n",
       "    <tr>\n",
       "      <th>2008-01-02 21:01:16.213999616</th>\n",
       "      <td>62.18</td>\n",
       "      <td>283</td>\n",
       "      <td>62.24</td>\n",
       "      <td>5</td>\n",
       "    </tr>\n",
       "    <tr>\n",
       "      <th>2008-01-02 21:25:28.845999872</th>\n",
       "      <td>62.18</td>\n",
       "      <td>1</td>\n",
       "      <td>62.24</td>\n",
       "      <td>1</td>\n",
       "    </tr>\n",
       "  </tbody>\n",
       "</table>\n",
       "<p>88840 rows × 4 columns</p>\n",
       "</div>"
      ],
      "text/plain": [
       "                               bid-price  bid-volume  ask-price  ask-volume\n",
       "time                                                                       \n",
       "2008-01-02 14:31:59.900999680      64.95           5      65.00          70\n",
       "2008-01-02 14:31:59.900999680      64.95           5      65.00          64\n",
       "2008-01-02 14:31:59.900999680      64.95          12      65.00          64\n",
       "2008-01-02 14:31:59.900999680      64.95          12      65.00          63\n",
       "2008-01-02 14:31:59.900999680      64.95           5      65.00          63\n",
       "...                                  ...         ...        ...         ...\n",
       "2008-01-02 20:59:59.602999552      62.23          13      62.24           5\n",
       "2008-01-02 20:59:59.668000000      62.23          33      62.24           5\n",
       "2008-01-02 21:00:00.089000192      62.23          23      62.24           5\n",
       "2008-01-02 21:01:16.213999616      62.18         283      62.24           5\n",
       "2008-01-02 21:25:28.845999872      62.18           1      62.24           1\n",
       "\n",
       "[88840 rows x 4 columns]"
      ]
     },
     "execution_count": 79,
     "metadata": {},
     "output_type": "execute_result"
    }
   ],
   "source": [
    "dataset"
   ]
  },
  {
   "cell_type": "code",
   "execution_count": 80,
   "id": "db00165d",
   "metadata": {},
   "outputs": [
    {
     "data": {
      "image/png": "[encoded data removed]",
      "text/plain": [
       "<Figure size 432x288 with 1 Axes>"
      ]
     },
     "metadata": {
      "needs_background": "light"
     },
     "output_type": "display_data"
    },
    {
     "data": {
      "image/png": "[encoded data removed]",
      "text/plain": [
       "<Figure size 432x288 with 1 Axes>"
      ]
     },
     "metadata": {
      "needs_background": "light"
     },
     "output_type": "display_data"
    }
   ],
   "source": [
    "plt.figure(1)\n",
    "plt.plot(dataset['bid-price'])\n",
    "plt.xlabel('Date', fontsize = 16)\n",
    "plt.ylabel('Bid-Prices', fontsize = 16)\n",
    "plt.show()\n",
    "\n",
    "plt.figure(2)\n",
    "plt.plot(dataset['bid-volume'])\n",
    "plt.xlabel('Date', fontsize = 16)\n",
    "plt.ylabel('Bid-Volumes', fontsize = 16)\n",
    "plt.show()"
   ]
  },
  {
   "cell_type": "code",
   "execution_count": 81,
   "id": "ee3301f8",
   "metadata": {},
   "outputs": [],
   "source": [
    "price_b_var = difference_set['bid-price']\n",
    "volume_b_var = difference_set['bid-volume']"
   ]
  },
  {
   "cell_type": "code",
   "execution_count": 82,
   "id": "cabf9496",
   "metadata": {},
   "outputs": [],
   "source": [
    "price_b_var =price_b_var[(price_b_var !=0)]\n",
    "volume_b_var =volume_b_var[volume_b_var !=0]\n",
    "\n",
    "price_b_var = price_b_var.iloc[1:]\n",
    "volume_b_var = volume_b_var.iloc[1:]"
   ]
  },
  {
   "cell_type": "code",
   "execution_count": 83,
   "id": "bba00d06",
   "metadata": {},
   "outputs": [],
   "source": [
    "price_b_var  = price_b_var[~price_b_var.index.duplicated(keep = 'last')]\n",
    "volume_b_var  = volume_b_var[~volume_b_var.index.duplicated(keep = 'last')]"
   ]
  },
  {
   "cell_type": "code",
   "execution_count": 84,
   "id": "3b8ca836",
   "metadata": {},
   "outputs": [],
   "source": [
    "data = pd.concat([price_b_var, volume_b_var], axis = 1)"
   ]
  },
  {
   "cell_type": "code",
   "execution_count": 85,
   "id": "17606247",
   "metadata": {},
   "outputs": [
    {
     "data": {
      "text/html": [
       "<div>\n",
       "<style scoped>\n",
       "    .dataframe tbody tr th:only-of-type {\n",
       "        vertical-align: middle;\n",
       "    }\n",
       "\n",
       "    .dataframe tbody tr th {\n",
       "        vertical-align: top;\n",
       "    }\n",
       "\n",
       "    .dataframe thead th {\n",
       "        text-align: right;\n",
       "    }\n",
       "</style>\n",
       "<table border=\"1\" class=\"dataframe\">\n",
       "  <thead>\n",
       "    <tr style=\"text-align: right;\">\n",
       "      <th></th>\n",
       "      <th>bid-price</th>\n",
       "      <th>bid-volume</th>\n",
       "    </tr>\n",
       "    <tr>\n",
       "      <th>time</th>\n",
       "      <th></th>\n",
       "      <th></th>\n",
       "    </tr>\n",
       "  </thead>\n",
       "  <tbody>\n",
       "    <tr>\n",
       "      <th>2008-01-02 14:31:59.900999680</th>\n",
       "      <td>NaN</td>\n",
       "      <td>-0.875469</td>\n",
       "    </tr>\n",
       "    <tr>\n",
       "      <th>2008-01-02 14:31:59.948000000</th>\n",
       "      <td>-0.000770</td>\n",
       "      <td>0.693147</td>\n",
       "    </tr>\n",
       "    <tr>\n",
       "      <th>2008-01-02 14:31:59.968999936</th>\n",
       "      <td>-0.000771</td>\n",
       "      <td>2.708050</td>\n",
       "    </tr>\n",
       "    <tr>\n",
       "      <th>2008-01-02 14:32:00.036000000</th>\n",
       "      <td>-0.000154</td>\n",
       "      <td>-0.836248</td>\n",
       "    </tr>\n",
       "    <tr>\n",
       "      <th>2008-01-02 14:32:00.086000384</th>\n",
       "      <td>0.000771</td>\n",
       "      <td>-1.178655</td>\n",
       "    </tr>\n",
       "    <tr>\n",
       "      <th>...</th>\n",
       "      <td>...</td>\n",
       "      <td>...</td>\n",
       "    </tr>\n",
       "    <tr>\n",
       "      <th>2008-01-02 20:59:59.602999552</th>\n",
       "      <td>0.000643</td>\n",
       "      <td>0.167054</td>\n",
       "    </tr>\n",
       "    <tr>\n",
       "      <th>2008-01-02 20:59:59.668000000</th>\n",
       "      <td>0.000643</td>\n",
       "      <td>0.931558</td>\n",
       "    </tr>\n",
       "    <tr>\n",
       "      <th>2008-01-02 21:00:00.089000192</th>\n",
       "      <td>0.000643</td>\n",
       "      <td>-0.361013</td>\n",
       "    </tr>\n",
       "    <tr>\n",
       "      <th>2008-01-02 21:01:16.213999616</th>\n",
       "      <td>-0.000804</td>\n",
       "      <td>2.509953</td>\n",
       "    </tr>\n",
       "    <tr>\n",
       "      <th>2008-01-02 21:25:28.845999872</th>\n",
       "      <td>-0.000804</td>\n",
       "      <td>-5.645447</td>\n",
       "    </tr>\n",
       "  </tbody>\n",
       "</table>\n",
       "<p>34710 rows × 2 columns</p>\n",
       "</div>"
      ],
      "text/plain": [
       "                               bid-price  bid-volume\n",
       "time                                                \n",
       "2008-01-02 14:31:59.900999680        NaN   -0.875469\n",
       "2008-01-02 14:31:59.948000000  -0.000770    0.693147\n",
       "2008-01-02 14:31:59.968999936  -0.000771    2.708050\n",
       "2008-01-02 14:32:00.036000000  -0.000154   -0.836248\n",
       "2008-01-02 14:32:00.086000384   0.000771   -1.178655\n",
       "...                                  ...         ...\n",
       "2008-01-02 20:59:59.602999552   0.000643    0.167054\n",
       "2008-01-02 20:59:59.668000000   0.000643    0.931558\n",
       "2008-01-02 21:00:00.089000192   0.000643   -0.361013\n",
       "2008-01-02 21:01:16.213999616  -0.000804    2.509953\n",
       "2008-01-02 21:25:28.845999872  -0.000804   -5.645447\n",
       "\n",
       "[34710 rows x 2 columns]"
      ]
     },
     "execution_count": 85,
     "metadata": {},
     "output_type": "execute_result"
    }
   ],
   "source": [
    "data = data.ffill(axis = 0)\n",
    "data"
   ]
  },
  {
   "cell_type": "code",
   "execution_count": 86,
   "id": "53cea18a",
   "metadata": {},
   "outputs": [
    {
     "data": {
      "text/html": [
       "<div>\n",
       "<style scoped>\n",
       "    .dataframe tbody tr th:only-of-type {\n",
       "        vertical-align: middle;\n",
       "    }\n",
       "\n",
       "    .dataframe tbody tr th {\n",
       "        vertical-align: top;\n",
       "    }\n",
       "\n",
       "    .dataframe thead th {\n",
       "        text-align: right;\n",
       "    }\n",
       "</style>\n",
       "<table border=\"1\" class=\"dataframe\">\n",
       "  <thead>\n",
       "    <tr style=\"text-align: right;\">\n",
       "      <th></th>\n",
       "      <th>Return</th>\n",
       "      <th>Bid Volume Variation</th>\n",
       "      <th>Ask Price</th>\n",
       "      <th>Ask Volume</th>\n",
       "      <th>Bid Price</th>\n",
       "    </tr>\n",
       "    <tr>\n",
       "      <th>time</th>\n",
       "      <th></th>\n",
       "      <th></th>\n",
       "      <th></th>\n",
       "      <th></th>\n",
       "      <th></th>\n",
       "    </tr>\n",
       "  </thead>\n",
       "  <tbody>\n",
       "    <tr>\n",
       "      <th>2008-01-02 14:31:59.968999936</th>\n",
       "      <td>-0.000771</td>\n",
       "      <td>2.708050</td>\n",
       "      <td>65.00</td>\n",
       "      <td>63</td>\n",
       "      <td>64.86</td>\n",
       "    </tr>\n",
       "    <tr>\n",
       "      <th>2008-01-02 14:32:00.036000000</th>\n",
       "      <td>-0.000154</td>\n",
       "      <td>-0.836248</td>\n",
       "      <td>65.00</td>\n",
       "      <td>60</td>\n",
       "      <td>64.85</td>\n",
       "    </tr>\n",
       "    <tr>\n",
       "      <th>2008-01-02 14:32:00.086000384</th>\n",
       "      <td>0.000771</td>\n",
       "      <td>-1.178655</td>\n",
       "      <td>65.00</td>\n",
       "      <td>60</td>\n",
       "      <td>64.90</td>\n",
       "    </tr>\n",
       "    <tr>\n",
       "      <th>2008-01-02 14:32:00.100000256</th>\n",
       "      <td>-0.000771</td>\n",
       "      <td>1.178655</td>\n",
       "      <td>65.00</td>\n",
       "      <td>60</td>\n",
       "      <td>64.85</td>\n",
       "    </tr>\n",
       "    <tr>\n",
       "      <th>2008-01-02 14:32:00.734000384</th>\n",
       "      <td>0.000154</td>\n",
       "      <td>-4.290459</td>\n",
       "      <td>64.95</td>\n",
       "      <td>1</td>\n",
       "      <td>64.80</td>\n",
       "    </tr>\n",
       "    <tr>\n",
       "      <th>...</th>\n",
       "      <td>...</td>\n",
       "      <td>...</td>\n",
       "      <td>...</td>\n",
       "      <td>...</td>\n",
       "      <td>...</td>\n",
       "    </tr>\n",
       "    <tr>\n",
       "      <th>2008-01-02 20:59:41.705000192</th>\n",
       "      <td>-0.000161</td>\n",
       "      <td>3.417727</td>\n",
       "      <td>62.21</td>\n",
       "      <td>1</td>\n",
       "      <td>62.19</td>\n",
       "    </tr>\n",
       "    <tr>\n",
       "      <th>2008-01-02 20:59:53.475000064</th>\n",
       "      <td>-0.000161</td>\n",
       "      <td>2.275556</td>\n",
       "      <td>62.24</td>\n",
       "      <td>1</td>\n",
       "      <td>62.18</td>\n",
       "    </tr>\n",
       "    <tr>\n",
       "      <th>2008-01-02 20:59:55.706000384</th>\n",
       "      <td>0.000161</td>\n",
       "      <td>-1.938742</td>\n",
       "      <td>62.28</td>\n",
       "      <td>49</td>\n",
       "      <td>62.19</td>\n",
       "    </tr>\n",
       "    <tr>\n",
       "      <th>2008-01-02 20:59:59.514000128</th>\n",
       "      <td>0.000643</td>\n",
       "      <td>0.095310</td>\n",
       "      <td>62.24</td>\n",
       "      <td>5</td>\n",
       "      <td>62.23</td>\n",
       "    </tr>\n",
       "    <tr>\n",
       "      <th>2008-01-02 21:01:16.213999616</th>\n",
       "      <td>-0.000804</td>\n",
       "      <td>2.509953</td>\n",
       "      <td>62.24</td>\n",
       "      <td>5</td>\n",
       "      <td>62.18</td>\n",
       "    </tr>\n",
       "  </tbody>\n",
       "</table>\n",
       "<p>15348 rows × 5 columns</p>\n",
       "</div>"
      ],
      "text/plain": [
       "                                 Return  Bid Volume Variation  Ask Price  \\\n",
       "time                                                                       \n",
       "2008-01-02 14:31:59.968999936 -0.000771              2.708050      65.00   \n",
       "2008-01-02 14:32:00.036000000 -0.000154             -0.836248      65.00   \n",
       "2008-01-02 14:32:00.086000384  0.000771             -1.178655      65.00   \n",
       "2008-01-02 14:32:00.100000256 -0.000771              1.178655      65.00   \n",
       "2008-01-02 14:32:00.734000384  0.000154             -4.290459      64.95   \n",
       "...                                 ...                   ...        ...   \n",
       "2008-01-02 20:59:41.705000192 -0.000161              3.417727      62.21   \n",
       "2008-01-02 20:59:53.475000064 -0.000161              2.275556      62.24   \n",
       "2008-01-02 20:59:55.706000384  0.000161             -1.938742      62.28   \n",
       "2008-01-02 20:59:59.514000128  0.000643              0.095310      62.24   \n",
       "2008-01-02 21:01:16.213999616 -0.000804              2.509953      62.24   \n",
       "\n",
       "                               Ask Volume  Bid Price  \n",
       "time                                                  \n",
       "2008-01-02 14:31:59.968999936          63      64.86  \n",
       "2008-01-02 14:32:00.036000000          60      64.85  \n",
       "2008-01-02 14:32:00.086000384          60      64.90  \n",
       "2008-01-02 14:32:00.100000256          60      64.85  \n",
       "2008-01-02 14:32:00.734000384           1      64.80  \n",
       "...                                   ...        ...  \n",
       "2008-01-02 20:59:41.705000192           1      62.19  \n",
       "2008-01-02 20:59:53.475000064           1      62.18  \n",
       "2008-01-02 20:59:55.706000384          49      62.19  \n",
       "2008-01-02 20:59:59.514000128           5      62.23  \n",
       "2008-01-02 21:01:16.213999616           5      62.18  \n",
       "\n",
       "[15348 rows x 5 columns]"
      ]
     },
     "execution_count": 86,
     "metadata": {},
     "output_type": "execute_result"
    }
   ],
   "source": [
    "data_price = data.loc[price_b_var.index].iloc[1:]\n",
    "data_price['Return'] = data_price['bid-price']\n",
    "data_price['Bid Volume Variation'] = data_price['bid-volume']\n",
    "price_b_var[~price_b_var.index.duplicated(keep = 'last')]\n",
    "data_price['Bid Volume'] = dataset['bid-volume'][~dataset.index.duplicated(keep = 'last')]\n",
    "data_price['Ask Price'] = dataset['ask-price'][~dataset.index.duplicated(keep = 'last')]\n",
    "data_price['Ask Volume'] = dataset['ask-volume'][~dataset.index.duplicated(keep = 'last')]\n",
    "data_price['Bid Price'] = dataset['bid-price'][~dataset.index.duplicated(keep = 'last')]\n",
    "del data_price['bid-price']\n",
    "del data_price['bid-volume']\n",
    "\n",
    "df = data_price\n",
    "# df['Return'] = df['Return'][~dataset.index.duplicated(keep = 'last')]\n",
    "del df['Bid Volume']\n",
    "df"
   ]
  },
  {
   "cell_type": "code",
   "execution_count": 87,
   "id": "d3ae97ec",
   "metadata": {},
   "outputs": [],
   "source": [
    "import numpy as np\n",
    "import pandas as pd\n",
    "from tqdm import tqdm\n",
    "import matplotlib.pyplot as plt\n",
    "\n",
    "from sklearn.linear_model import *\n",
    "from sklearn.metrics import mean_squared_error\n",
    "from sklearn.model_selection import train_test_split, GridSearchCV\n",
    "\n",
    "from lineartree import LinearTreeRegressor"
   ]
  },
  {
   "cell_type": "code",
   "execution_count": 88,
   "id": "9cc7622b",
   "metadata": {},
   "outputs": [
    {
     "data": {
      "text/plain": [
       "time\n",
       "2008-01-02 14:31:59.900999680         NaN\n",
       "2008-01-02 14:31:59.900999680    0.000000\n",
       "2008-01-02 14:31:59.948000000   -0.000616\n",
       "2008-01-02 14:31:59.948000000    0.000770\n",
       "2008-01-02 14:31:59.948000000   -0.000770\n",
       "                                   ...   \n",
       "2008-01-02 20:59:55.906000128    0.000000\n",
       "2008-01-02 20:59:59.514000128    0.000643\n",
       "2008-01-02 20:59:59.514000128    0.000000\n",
       "2008-01-02 21:01:16.213999616   -0.000804\n",
       "2008-01-02 21:25:28.845999872    0.000000\n",
       "Name: bid-price, Length: 28950, dtype: float64"
      ]
     },
     "execution_count": 88,
     "metadata": {},
     "output_type": "execute_result"
    }
   ],
   "source": [
    "data = difference_set['bid-price']\n",
    "data = data.loc[data.shift() != data]\n",
    "data"
   ]
  },
  {
   "cell_type": "code",
   "execution_count": 89,
   "id": "70d19150",
   "metadata": {},
   "outputs": [
    {
     "data": {
      "text/plain": [
       "((9208,), (6140,))"
      ]
     },
     "execution_count": 89,
     "metadata": {},
     "output_type": "execute_result"
    }
   ],
   "source": [
    "X_train, X_test, y_train, y_test = train_test_split(\n",
    "    df['Return'], df['Return'], \n",
    "    test_size=0.4, shuffle=False)\n",
    "\n",
    "X_train.shape, X_test.shape"
   ]
  },
  {
   "cell_type": "code",
   "execution_count": 90,
   "id": "8e7ee22f",
   "metadata": {},
   "outputs": [
    {
     "data": {
      "text/plain": [
       "array([ 0.00015976, -0.00015976, -0.00015978, ...,  0.00016081,\n",
       "        0.00064298, -0.00080379])"
      ]
     },
     "execution_count": 90,
     "metadata": {},
     "output_type": "execute_result"
    }
   ],
   "source": [
    "np.array(X_test)"
   ]
  },
  {
   "cell_type": "code",
   "execution_count": 91,
   "id": "4a7d5d27",
   "metadata": {},
   "outputs": [
    {
     "data": {
      "text/plain": [
       "<matplotlib.legend.Legend at 0x268c4b0eb20>"
      ]
     },
     "execution_count": 91,
     "metadata": {},
     "output_type": "execute_result"
    },
    {
     "data": {
      "image/png": "[encoded data removed]",
      "text/plain": [
       "<Figure size 1152x432 with 1 Axes>"
      ]
     },
     "metadata": {
      "needs_background": "light"
     },
     "output_type": "display_data"
    }
   ],
   "source": [
    "# We plot:\n",
    "\n",
    "y_train.plot(label='train', figsize=(16,6))\n",
    "y_test.plot(label='test')\n",
    "plt.title('Return',fontsize = 15)\n",
    "plt.xlabel('Time',fontsize = 15)\n",
    "plt.tick_params(labelsize=13)\n",
    "plt.legend()"
   ]
  },
  {
   "cell_type": "code",
   "execution_count": 92,
   "id": "2e92fc59",
   "metadata": {},
   "outputs": [
    {
     "data": {
      "text/plain": [
       "{'max_depth': 3, 'min_samples_split': 0.3}"
      ]
     },
     "execution_count": 92,
     "metadata": {},
     "output_type": "execute_result"
    }
   ],
   "source": [
    "# TUNING A LINEAR TREE\n",
    "\n",
    "model = GridSearchCV(estimator=LinearTreeRegressor(Ridge(), criterion='rmse'),\n",
    "                     param_grid={'max_depth': [1, 2, 3], 'min_samples_split': [0.4, 0.3, 0.2]}, \n",
    "                     n_jobs=-1, cv=2, scoring='neg_mean_squared_error', refit=True)\n",
    "\n",
    "model.fit(np.array(X_train).reshape(-1, 1), np.array(y_train).reshape(-1, 1))\n",
    "\n",
    "model.best_params_"
   ]
  },
  {
   "cell_type": "code",
   "execution_count": 93,
   "id": "ae084dbe",
   "metadata": {},
   "outputs": [
    {
     "data": {
      "text/plain": [
       "0.00014869250209131462"
      ]
     },
     "execution_count": 93,
     "metadata": {},
     "output_type": "execute_result"
    }
   ],
   "source": [
    "# COMPUTE TEST ERROR FOR LINEAR TREE\n",
    "pred_lt = pd.Series(model.predict(np.array(X_test).reshape(-1, 1)), index = y_test.index)\n",
    "mean_squared_error(y_test, pred_lt, squared=False)"
   ]
  },
  {
   "cell_type": "code",
   "execution_count": 94,
   "id": "96f451c1",
   "metadata": {},
   "outputs": [
    {
     "data": {
      "text/plain": [
       "{'alpha': 1}"
      ]
     },
     "execution_count": 94,
     "metadata": {},
     "output_type": "execute_result"
    }
   ],
   "source": [
    "# TUNING THE LINEAR REGRESSION\n",
    "\n",
    "model = GridSearchCV(estimator=Ridge(), param_grid={'alpha': [1, 3, 5, 10, 20]}, \n",
    "                     scoring='neg_mean_squared_error', cv=2, refit=True)\n",
    "\n",
    "model.fit(np.array(X_train).reshape(-1, 1), np.array(y_train).reshape(-1, 1))\n",
    "model.best_params_"
   ]
  },
  {
   "cell_type": "code",
   "execution_count": 95,
   "metadata": {},
   "outputs": [
    {
     "data": {
      "text/plain": [
       "<matplotlib.legend.Legend at 0x268c4bd4ca0>"
      ]
     },
     "execution_count": 95,
     "metadata": {},
     "output_type": "execute_result"
    },
    {
     "data": {
      "image/png": "[encoded data removed]",
      "text/plain": [
       "<Figure size 720x432 with 1 Axes>"
      ]
     },
     "metadata": {
      "needs_background": "light"
     },
     "output_type": "display_data"
    }
   ],
   "source": [
    "# PLOT AND COMPARE PREDICTIONS\n",
    "\n",
    "y_test[4000:4100].plot(label='true', figsize=(10,6))\n",
    "pred_lt[4000:4100].plot(label='linear Tree')\n",
    "\n",
    "plt.title('Return',fontsize = 15)\n",
    "plt.xlabel('Time',fontsize = 15)\n",
    "plt.tick_params(labelsize=13)\n",
    "plt.legend()\n",
    "plt.legend()\n"
   ]
  },
  {
   "cell_type": "code",
   "execution_count": 96,
   "id": "7f7bc63f",
   "metadata": {},
   "outputs": [
    {
     "name": "stderr",
     "output_type": "stream",
     "text": [
      "c:\\Anaconda3\\lib\\site-packages\\sklearn\\ensemble\\_gb.py:570: DataConversionWarning: A column-vector y was passed when a 1d array was expected. Please change the shape of y to (n_samples, ), for example using ravel().\n",
      "  y = column_or_1d(y, warn=True)\n",
      "c:\\Anaconda3\\lib\\site-packages\\sklearn\\ensemble\\_gb.py:570: DataConversionWarning: A column-vector y was passed when a 1d array was expected. Please change the shape of y to (n_samples, ), for example using ravel().\n",
      "  y = column_or_1d(y, warn=True)\n",
      "c:\\Anaconda3\\lib\\site-packages\\sklearn\\ensemble\\_gb.py:294: FutureWarning: The loss 'ls' was deprecated in v1.0 and will be removed in version 1.2. Use 'squared_error' which is equivalent.\n",
      "  warnings.warn(\n",
      "c:\\Anaconda3\\lib\\site-packages\\sklearn\\ensemble\\_gb.py:570: DataConversionWarning: A column-vector y was passed when a 1d array was expected. Please change the shape of y to (n_samples, ), for example using ravel().\n",
      "  y = column_or_1d(y, warn=True)\n"
     ]
    },
    {
     "data": {
      "image/png": "[encoded data removed]",
      "text/plain": [
       "<Figure size 432x288 with 1 Axes>"
      ]
     },
     "metadata": {
      "needs_background": "light"
     },
     "output_type": "display_data"
    }
   ],
   "source": [
    "from sklearn.ensemble import GradientBoostingRegressor\n",
    "# Set lower and upper quantile\n",
    "LOWER_ALPHA = 0.1\n",
    "UPPER_ALPHA = 0.9\n",
    "# Each model has to be separate\n",
    "lower_model = GradientBoostingRegressor(loss=\"quantile\",                   \n",
    "                                        alpha=LOWER_ALPHA)\n",
    "# The mid model will use the default loss\n",
    "mid_model = GradientBoostingRegressor(loss=\"ls\")\n",
    "upper_model = GradientBoostingRegressor(loss=\"quantile\",\n",
    "                                        alpha=UPPER_ALPHA)\n",
    "\n",
    "# Fit models\n",
    "lower_model.fit(np.array(X_train).reshape(-1, 1), np.array(y_train).reshape(-1, 1))\n",
    "mid_model.fit(np.array(X_train).reshape(-1, 1), np.array(y_train).reshape(-1, 1))\n",
    "upper_model.fit(np.array(X_train).reshape(-1, 1), np.array(y_train).reshape(-1, 1))\n",
    "# Record actual values on test set\n",
    "predictions = pd.DataFrame(y_test)\n",
    "# Predict\n",
    "predictions['lower'] = lower_model.predict(np.array(X_test).reshape(-1, 1))\n",
    "predictions['mid'] = mid_model.predict(np.array(X_test).reshape(-1, 1))\n",
    "predictions['upper'] = upper_model.predict(np.array(X_test).reshape(-1, 1))\n",
    "\n",
    "plt.plot(predictions[:50])\n",
    "plt.show()"
   ]
  },
  {
   "cell_type": "code",
   "execution_count": 97,
   "id": "2b569889",
   "metadata": {},
   "outputs": [
    {
     "ename": "ImportError",
     "evalue": "cannot import name 'GradientBoostingPredictionIntervals' from 'sklearn.ensemble' (c:\\Anaconda3\\lib\\site-packages\\sklearn\\ensemble\\__init__.py)",
     "output_type": "error",
     "traceback": [
      "\u001b[1;31m---------------------------------------------------------------------------\u001b[0m",
      "\u001b[1;31mImportError\u001b[0m                               Traceback (most recent call last)",
      "\u001b[1;32m<ipython-input-97-eb19d78773af>\u001b[0m in \u001b[0;36m<module>\u001b[1;34m\u001b[0m\n\u001b[1;32m----> 1\u001b[1;33m \u001b[1;32mfrom\u001b[0m \u001b[0msklearn\u001b[0m\u001b[1;33m.\u001b[0m\u001b[0mensemble\u001b[0m \u001b[1;32mimport\u001b[0m \u001b[0mGradientBoostingPredictionIntervals\u001b[0m\u001b[1;33m\u001b[0m\u001b[1;33m\u001b[0m\u001b[0m\n\u001b[0m\u001b[0;32m      2\u001b[0m \u001b[1;33m\u001b[0m\u001b[0m\n\u001b[0;32m      3\u001b[0m \u001b[1;31m# Instantiate the class\u001b[0m\u001b[1;33m\u001b[0m\u001b[1;33m\u001b[0m\u001b[1;33m\u001b[0m\u001b[0m\n\u001b[0;32m      4\u001b[0m model = GradientBoostingPredictionIntervals(\n\u001b[0;32m      5\u001b[0m     \u001b[0mlower_alpha\u001b[0m\u001b[1;33m=\u001b[0m\u001b[1;36m0.1\u001b[0m\u001b[1;33m,\u001b[0m \u001b[0mupper_alpha\u001b[0m\u001b[1;33m=\u001b[0m\u001b[1;36m0.9\u001b[0m\u001b[1;33m\u001b[0m\u001b[1;33m\u001b[0m\u001b[0m\n",
      "\u001b[1;31mImportError\u001b[0m: cannot import name 'GradientBoostingPredictionIntervals' from 'sklearn.ensemble' (c:\\Anaconda3\\lib\\site-packages\\sklearn\\ensemble\\__init__.py)"
     ]
    }
   ],
   "source": [
    "from sklearn.ensemble import GradientBoostingPredictionIntervals\n",
    "\n",
    "# Instantiate the class\n",
    "model = GradientBoostingPredictionIntervals(\n",
    "    lower_alpha=0.1, upper_alpha=0.9\n",
    ")\n",
    "# Fit and make predictions\n",
    "_ = model.fit(X_train, y_train)\n",
    "predictions = model.predict(X_test, y_test)\n",
    "fig = model.plot_intervals(mid=True, start='2017-05-26', \n",
    "                           stop='2017-06-01')\n",
    "iplot(fig)"
   ]
  }
 ],
 "metadata": {
  "interpreter": {
   "hash": "e4cce46d6be9934fbd27f9ca0432556941ea5bdf741d4f4d64c6cd7f8dfa8fba"
  },
  "kernelspec": {
   "display_name": "Python 3.8.3 ('base')",
   "language": "python",
   "name": "python3"
  },
  "language_info": {
   "codemirror_mode": {
    "name": "ipython",
    "version": 3
   },
   "file_extension": ".py",
   "mimetype": "text/x-python",
   "name": "python",
   "nbconvert_exporter": "python",
   "pygments_lexer": "ipython3",
   "version": "3.8.3"
  }
 },
 "nbformat": 4,
 "nbformat_minor": 5
}
