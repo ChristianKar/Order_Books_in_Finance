{
 "cells": [
  {
   "cell_type": "code",
   "execution_count": 48,
   "id": "7a11c180",
   "metadata": {},
   "outputs": [],
   "source": [
    "import pandas as pd\n",
    "import numpy as np\n",
    "import matplotlib.pyplot as plt"
   ]
  },
  {
   "cell_type": "code",
   "execution_count": 49,
   "id": "84e9465c",
   "metadata": {},
   "outputs": [
    {
     "data": {
      "text/html": [
       "<div>\n",
       "<style scoped>\n",
       "    .dataframe tbody tr th:only-of-type {\n",
       "        vertical-align: middle;\n",
       "    }\n",
       "\n",
       "    .dataframe tbody tr th {\n",
       "        vertical-align: top;\n",
       "    }\n",
       "\n",
       "    .dataframe thead th {\n",
       "        text-align: right;\n",
       "    }\n",
       "</style>\n",
       "<table border=\"1\" class=\"dataframe\">\n",
       "  <thead>\n",
       "    <tr style=\"text-align: right;\">\n",
       "      <th></th>\n",
       "      <th>bid-price</th>\n",
       "      <th>bid-volume</th>\n",
       "      <th>ask-price</th>\n",
       "      <th>ask-volume</th>\n",
       "    </tr>\n",
       "    <tr>\n",
       "      <th>time</th>\n",
       "      <th></th>\n",
       "      <th></th>\n",
       "      <th></th>\n",
       "      <th></th>\n",
       "    </tr>\n",
       "  </thead>\n",
       "  <tbody>\n",
       "    <tr>\n",
       "      <th>2008-01-02 14:31:59.900999680</th>\n",
       "      <td>NaN</td>\n",
       "      <td>NaN</td>\n",
       "      <td>NaN</td>\n",
       "      <td>NaN</td>\n",
       "    </tr>\n",
       "    <tr>\n",
       "      <th>2008-01-02 14:31:59.900999680</th>\n",
       "      <td>0.000000</td>\n",
       "      <td>0.000000</td>\n",
       "      <td>0.0</td>\n",
       "      <td>-0.089612</td>\n",
       "    </tr>\n",
       "    <tr>\n",
       "      <th>2008-01-02 14:31:59.900999680</th>\n",
       "      <td>0.000000</td>\n",
       "      <td>0.875469</td>\n",
       "      <td>0.0</td>\n",
       "      <td>0.000000</td>\n",
       "    </tr>\n",
       "    <tr>\n",
       "      <th>2008-01-02 14:31:59.900999680</th>\n",
       "      <td>0.000000</td>\n",
       "      <td>0.000000</td>\n",
       "      <td>0.0</td>\n",
       "      <td>-0.015748</td>\n",
       "    </tr>\n",
       "    <tr>\n",
       "      <th>2008-01-02 14:31:59.900999680</th>\n",
       "      <td>0.000000</td>\n",
       "      <td>-0.875469</td>\n",
       "      <td>0.0</td>\n",
       "      <td>0.000000</td>\n",
       "    </tr>\n",
       "    <tr>\n",
       "      <th>2008-01-02 14:31:59.948000000</th>\n",
       "      <td>-0.000616</td>\n",
       "      <td>-0.916291</td>\n",
       "      <td>0.0</td>\n",
       "      <td>0.000000</td>\n",
       "    </tr>\n",
       "    <tr>\n",
       "      <th>2008-01-02 14:31:59.948000000</th>\n",
       "      <td>0.000770</td>\n",
       "      <td>-0.693147</td>\n",
       "      <td>0.0</td>\n",
       "      <td>0.000000</td>\n",
       "    </tr>\n",
       "    <tr>\n",
       "      <th>2008-01-02 14:31:59.948000000</th>\n",
       "      <td>-0.000770</td>\n",
       "      <td>0.693147</td>\n",
       "      <td>0.0</td>\n",
       "      <td>0.000000</td>\n",
       "    </tr>\n",
       "    <tr>\n",
       "      <th>2008-01-02 14:31:59.968999936</th>\n",
       "      <td>-0.000771</td>\n",
       "      <td>2.708050</td>\n",
       "      <td>0.0</td>\n",
       "      <td>0.000000</td>\n",
       "    </tr>\n",
       "    <tr>\n",
       "      <th>2008-01-02 14:32:00.036000000</th>\n",
       "      <td>0.000000</td>\n",
       "      <td>0.000000</td>\n",
       "      <td>0.0</td>\n",
       "      <td>-0.032261</td>\n",
       "    </tr>\n",
       "  </tbody>\n",
       "</table>\n",
       "</div>"
      ],
      "text/plain": [
       "                               bid-price  bid-volume  ask-price  ask-volume\n",
       "time                                                                       \n",
       "2008-01-02 14:31:59.900999680        NaN         NaN        NaN         NaN\n",
       "2008-01-02 14:31:59.900999680   0.000000    0.000000        0.0   -0.089612\n",
       "2008-01-02 14:31:59.900999680   0.000000    0.875469        0.0    0.000000\n",
       "2008-01-02 14:31:59.900999680   0.000000    0.000000        0.0   -0.015748\n",
       "2008-01-02 14:31:59.900999680   0.000000   -0.875469        0.0    0.000000\n",
       "2008-01-02 14:31:59.948000000  -0.000616   -0.916291        0.0    0.000000\n",
       "2008-01-02 14:31:59.948000000   0.000770   -0.693147        0.0    0.000000\n",
       "2008-01-02 14:31:59.948000000  -0.000770    0.693147        0.0    0.000000\n",
       "2008-01-02 14:31:59.968999936  -0.000771    2.708050        0.0    0.000000\n",
       "2008-01-02 14:32:00.036000000   0.000000    0.000000        0.0   -0.032261"
      ]
     },
     "execution_count": 49,
     "metadata": {},
     "output_type": "execute_result"
    }
   ],
   "source": [
    "#  Load data\n",
    "dataset  = pd.read_csv('2008-01-02-LEH.N-bbo.csv', index_col = 0)\n",
    "dataset.index = pd.DatetimeIndex(dataset.index)\n",
    "\n",
    "difference_set = np.log(dataset).diff()\n",
    "difference_set.head(10)"
   ]
  },
  {
   "cell_type": "code",
   "execution_count": 50,
   "id": "3827efaa",
   "metadata": {},
   "outputs": [
    {
     "data": {
      "text/html": [
       "<div>\n",
       "<style scoped>\n",
       "    .dataframe tbody tr th:only-of-type {\n",
       "        vertical-align: middle;\n",
       "    }\n",
       "\n",
       "    .dataframe tbody tr th {\n",
       "        vertical-align: top;\n",
       "    }\n",
       "\n",
       "    .dataframe thead th {\n",
       "        text-align: right;\n",
       "    }\n",
       "</style>\n",
       "<table border=\"1\" class=\"dataframe\">\n",
       "  <thead>\n",
       "    <tr style=\"text-align: right;\">\n",
       "      <th></th>\n",
       "      <th>bid-price</th>\n",
       "      <th>bid-volume</th>\n",
       "      <th>ask-price</th>\n",
       "      <th>ask-volume</th>\n",
       "    </tr>\n",
       "    <tr>\n",
       "      <th>time</th>\n",
       "      <th></th>\n",
       "      <th></th>\n",
       "      <th></th>\n",
       "      <th></th>\n",
       "    </tr>\n",
       "  </thead>\n",
       "  <tbody>\n",
       "    <tr>\n",
       "      <th>2008-01-02 14:31:59.900999680</th>\n",
       "      <td>64.95</td>\n",
       "      <td>5</td>\n",
       "      <td>65.0</td>\n",
       "      <td>70</td>\n",
       "    </tr>\n",
       "    <tr>\n",
       "      <th>2008-01-02 14:31:59.900999680</th>\n",
       "      <td>64.95</td>\n",
       "      <td>5</td>\n",
       "      <td>65.0</td>\n",
       "      <td>64</td>\n",
       "    </tr>\n",
       "    <tr>\n",
       "      <th>2008-01-02 14:31:59.900999680</th>\n",
       "      <td>64.95</td>\n",
       "      <td>12</td>\n",
       "      <td>65.0</td>\n",
       "      <td>64</td>\n",
       "    </tr>\n",
       "    <tr>\n",
       "      <th>2008-01-02 14:31:59.900999680</th>\n",
       "      <td>64.95</td>\n",
       "      <td>12</td>\n",
       "      <td>65.0</td>\n",
       "      <td>63</td>\n",
       "    </tr>\n",
       "    <tr>\n",
       "      <th>2008-01-02 14:31:59.900999680</th>\n",
       "      <td>64.95</td>\n",
       "      <td>5</td>\n",
       "      <td>65.0</td>\n",
       "      <td>63</td>\n",
       "    </tr>\n",
       "    <tr>\n",
       "      <th>2008-01-02 14:31:59.948000000</th>\n",
       "      <td>64.91</td>\n",
       "      <td>2</td>\n",
       "      <td>65.0</td>\n",
       "      <td>63</td>\n",
       "    </tr>\n",
       "    <tr>\n",
       "      <th>2008-01-02 14:31:59.948000000</th>\n",
       "      <td>64.96</td>\n",
       "      <td>1</td>\n",
       "      <td>65.0</td>\n",
       "      <td>63</td>\n",
       "    </tr>\n",
       "    <tr>\n",
       "      <th>2008-01-02 14:31:59.948000000</th>\n",
       "      <td>64.91</td>\n",
       "      <td>2</td>\n",
       "      <td>65.0</td>\n",
       "      <td>63</td>\n",
       "    </tr>\n",
       "    <tr>\n",
       "      <th>2008-01-02 14:31:59.968999936</th>\n",
       "      <td>64.86</td>\n",
       "      <td>30</td>\n",
       "      <td>65.0</td>\n",
       "      <td>63</td>\n",
       "    </tr>\n",
       "    <tr>\n",
       "      <th>2008-01-02 14:32:00.036000000</th>\n",
       "      <td>64.86</td>\n",
       "      <td>30</td>\n",
       "      <td>65.0</td>\n",
       "      <td>61</td>\n",
       "    </tr>\n",
       "  </tbody>\n",
       "</table>\n",
       "</div>"
      ],
      "text/plain": [
       "                               bid-price  bid-volume  ask-price  ask-volume\n",
       "time                                                                       \n",
       "2008-01-02 14:31:59.900999680      64.95           5       65.0          70\n",
       "2008-01-02 14:31:59.900999680      64.95           5       65.0          64\n",
       "2008-01-02 14:31:59.900999680      64.95          12       65.0          64\n",
       "2008-01-02 14:31:59.900999680      64.95          12       65.0          63\n",
       "2008-01-02 14:31:59.900999680      64.95           5       65.0          63\n",
       "2008-01-02 14:31:59.948000000      64.91           2       65.0          63\n",
       "2008-01-02 14:31:59.948000000      64.96           1       65.0          63\n",
       "2008-01-02 14:31:59.948000000      64.91           2       65.0          63\n",
       "2008-01-02 14:31:59.968999936      64.86          30       65.0          63\n",
       "2008-01-02 14:32:00.036000000      64.86          30       65.0          61"
      ]
     },
     "execution_count": 50,
     "metadata": {},
     "output_type": "execute_result"
    }
   ],
   "source": [
    "dataset.head(10)"
   ]
  },
  {
   "cell_type": "code",
   "execution_count": 51,
   "id": "66589ff2",
   "metadata": {},
   "outputs": [
    {
     "data": {
      "text/html": [
       "<div>\n",
       "<style scoped>\n",
       "    .dataframe tbody tr th:only-of-type {\n",
       "        vertical-align: middle;\n",
       "    }\n",
       "\n",
       "    .dataframe tbody tr th {\n",
       "        vertical-align: top;\n",
       "    }\n",
       "\n",
       "    .dataframe thead th {\n",
       "        text-align: right;\n",
       "    }\n",
       "</style>\n",
       "<table border=\"1\" class=\"dataframe\">\n",
       "  <thead>\n",
       "    <tr style=\"text-align: right;\">\n",
       "      <th></th>\n",
       "      <th>bid-price</th>\n",
       "      <th>bid-volume</th>\n",
       "      <th>ask-price</th>\n",
       "      <th>ask-volume</th>\n",
       "    </tr>\n",
       "    <tr>\n",
       "      <th>time</th>\n",
       "      <th></th>\n",
       "      <th></th>\n",
       "      <th></th>\n",
       "      <th></th>\n",
       "    </tr>\n",
       "  </thead>\n",
       "  <tbody>\n",
       "    <tr>\n",
       "      <th>2008-01-02 14:31:59.900999680</th>\n",
       "      <td>64.95</td>\n",
       "      <td>5</td>\n",
       "      <td>65.00</td>\n",
       "      <td>70</td>\n",
       "    </tr>\n",
       "    <tr>\n",
       "      <th>2008-01-02 14:31:59.900999680</th>\n",
       "      <td>64.95</td>\n",
       "      <td>5</td>\n",
       "      <td>65.00</td>\n",
       "      <td>64</td>\n",
       "    </tr>\n",
       "    <tr>\n",
       "      <th>2008-01-02 14:31:59.900999680</th>\n",
       "      <td>64.95</td>\n",
       "      <td>12</td>\n",
       "      <td>65.00</td>\n",
       "      <td>64</td>\n",
       "    </tr>\n",
       "    <tr>\n",
       "      <th>2008-01-02 14:31:59.900999680</th>\n",
       "      <td>64.95</td>\n",
       "      <td>12</td>\n",
       "      <td>65.00</td>\n",
       "      <td>63</td>\n",
       "    </tr>\n",
       "    <tr>\n",
       "      <th>2008-01-02 14:31:59.900999680</th>\n",
       "      <td>64.95</td>\n",
       "      <td>5</td>\n",
       "      <td>65.00</td>\n",
       "      <td>63</td>\n",
       "    </tr>\n",
       "    <tr>\n",
       "      <th>...</th>\n",
       "      <td>...</td>\n",
       "      <td>...</td>\n",
       "      <td>...</td>\n",
       "      <td>...</td>\n",
       "    </tr>\n",
       "    <tr>\n",
       "      <th>2008-01-02 20:59:59.602999552</th>\n",
       "      <td>62.23</td>\n",
       "      <td>13</td>\n",
       "      <td>62.24</td>\n",
       "      <td>5</td>\n",
       "    </tr>\n",
       "    <tr>\n",
       "      <th>2008-01-02 20:59:59.668000000</th>\n",
       "      <td>62.23</td>\n",
       "      <td>33</td>\n",
       "      <td>62.24</td>\n",
       "      <td>5</td>\n",
       "    </tr>\n",
       "    <tr>\n",
       "      <th>2008-01-02 21:00:00.089000192</th>\n",
       "      <td>62.23</td>\n",
       "      <td>23</td>\n",
       "      <td>62.24</td>\n",
       "      <td>5</td>\n",
       "    </tr>\n",
       "    <tr>\n",
       "      <th>2008-01-02 21:01:16.213999616</th>\n",
       "      <td>62.18</td>\n",
       "      <td>283</td>\n",
       "      <td>62.24</td>\n",
       "      <td>5</td>\n",
       "    </tr>\n",
       "    <tr>\n",
       "      <th>2008-01-02 21:25:28.845999872</th>\n",
       "      <td>62.18</td>\n",
       "      <td>1</td>\n",
       "      <td>62.24</td>\n",
       "      <td>1</td>\n",
       "    </tr>\n",
       "  </tbody>\n",
       "</table>\n",
       "<p>88840 rows × 4 columns</p>\n",
       "</div>"
      ],
      "text/plain": [
       "                               bid-price  bid-volume  ask-price  ask-volume\n",
       "time                                                                       \n",
       "2008-01-02 14:31:59.900999680      64.95           5      65.00          70\n",
       "2008-01-02 14:31:59.900999680      64.95           5      65.00          64\n",
       "2008-01-02 14:31:59.900999680      64.95          12      65.00          64\n",
       "2008-01-02 14:31:59.900999680      64.95          12      65.00          63\n",
       "2008-01-02 14:31:59.900999680      64.95           5      65.00          63\n",
       "...                                  ...         ...        ...         ...\n",
       "2008-01-02 20:59:59.602999552      62.23          13      62.24           5\n",
       "2008-01-02 20:59:59.668000000      62.23          33      62.24           5\n",
       "2008-01-02 21:00:00.089000192      62.23          23      62.24           5\n",
       "2008-01-02 21:01:16.213999616      62.18         283      62.24           5\n",
       "2008-01-02 21:25:28.845999872      62.18           1      62.24           1\n",
       "\n",
       "[88840 rows x 4 columns]"
      ]
     },
     "execution_count": 51,
     "metadata": {},
     "output_type": "execute_result"
    }
   ],
   "source": [
    "dataset"
   ]
  },
  {
   "cell_type": "code",
   "execution_count": 52,
   "id": "db00165d",
   "metadata": {},
   "outputs": [
    {
     "data": {
      "image/png": "[encoded data removed]",
      "text/plain": [
       "<Figure size 432x288 with 1 Axes>"
      ]
     },
     "metadata": {
      "needs_background": "light"
     },
     "output_type": "display_data"
    },
    {
     "data": {
      "image/png": "[encoded data removed]",
      "text/plain": [
       "<Figure size 432x288 with 1 Axes>"
      ]
     },
     "metadata": {
      "needs_background": "light"
     },
     "output_type": "display_data"
    }
   ],
   "source": [
    "plt.figure(1)\n",
    "plt.plot(dataset['bid-price'])\n",
    "plt.xlabel('Date', fontsize = 16)\n",
    "plt.ylabel('Bid-Prices', fontsize = 16)\n",
    "plt.show()\n",
    "\n",
    "plt.figure(2)\n",
    "plt.plot(dataset['bid-volume'])\n",
    "plt.xlabel('Date', fontsize = 16)\n",
    "plt.ylabel('Bid-Volumes', fontsize = 16)\n",
    "plt.show()"
   ]
  },
  {
   "cell_type": "code",
   "execution_count": 53,
   "id": "ee3301f8",
   "metadata": {},
   "outputs": [],
   "source": [
    "price_b_var = difference_set['bid-price']\n",
    "volume_b_var = difference_set['bid-volume']"
   ]
  },
  {
   "cell_type": "code",
   "execution_count": 54,
   "id": "cabf9496",
   "metadata": {},
   "outputs": [],
   "source": [
    "price_b_var =price_b_var[(price_b_var !=0)]\n",
    "volume_b_var =volume_b_var[volume_b_var !=0]\n",
    "\n",
    "price_b_var = price_b_var.iloc[1:]\n",
    "volume_b_var = volume_b_var.iloc[1:]"
   ]
  },
  {
   "cell_type": "code",
   "execution_count": 55,
   "id": "bba00d06",
   "metadata": {},
   "outputs": [],
   "source": [
    "price_b_var  = price_b_var[~price_b_var.index.duplicated(keep = 'last')]\n",
    "volume_b_var  = volume_b_var[~volume_b_var.index.duplicated(keep = 'last')]"
   ]
  },
  {
   "cell_type": "code",
   "execution_count": 56,
   "id": "3b8ca836",
   "metadata": {},
   "outputs": [],
   "source": [
    "data = pd.concat([price_b_var, volume_b_var], axis = 1)"
   ]
  },
  {
   "cell_type": "code",
   "execution_count": 57,
   "id": "17606247",
   "metadata": {},
   "outputs": [
    {
     "data": {
      "text/html": [
       "<div>\n",
       "<style scoped>\n",
       "    .dataframe tbody tr th:only-of-type {\n",
       "        vertical-align: middle;\n",
       "    }\n",
       "\n",
       "    .dataframe tbody tr th {\n",
       "        vertical-align: top;\n",
       "    }\n",
       "\n",
       "    .dataframe thead th {\n",
       "        text-align: right;\n",
       "    }\n",
       "</style>\n",
       "<table border=\"1\" class=\"dataframe\">\n",
       "  <thead>\n",
       "    <tr style=\"text-align: right;\">\n",
       "      <th></th>\n",
       "      <th>bid-price</th>\n",
       "      <th>bid-volume</th>\n",
       "    </tr>\n",
       "    <tr>\n",
       "      <th>time</th>\n",
       "      <th></th>\n",
       "      <th></th>\n",
       "    </tr>\n",
       "  </thead>\n",
       "  <tbody>\n",
       "    <tr>\n",
       "      <th>2008-01-02 14:31:59.900999680</th>\n",
       "      <td>NaN</td>\n",
       "      <td>-0.875469</td>\n",
       "    </tr>\n",
       "    <tr>\n",
       "      <th>2008-01-02 14:31:59.948000000</th>\n",
       "      <td>-0.000770</td>\n",
       "      <td>0.693147</td>\n",
       "    </tr>\n",
       "    <tr>\n",
       "      <th>2008-01-02 14:31:59.968999936</th>\n",
       "      <td>-0.000771</td>\n",
       "      <td>2.708050</td>\n",
       "    </tr>\n",
       "    <tr>\n",
       "      <th>2008-01-02 14:32:00.036000000</th>\n",
       "      <td>-0.000154</td>\n",
       "      <td>-0.836248</td>\n",
       "    </tr>\n",
       "    <tr>\n",
       "      <th>2008-01-02 14:32:00.086000384</th>\n",
       "      <td>0.000771</td>\n",
       "      <td>-1.178655</td>\n",
       "    </tr>\n",
       "    <tr>\n",
       "      <th>...</th>\n",
       "      <td>...</td>\n",
       "      <td>...</td>\n",
       "    </tr>\n",
       "    <tr>\n",
       "      <th>2008-01-02 20:59:59.602999552</th>\n",
       "      <td>0.000643</td>\n",
       "      <td>0.167054</td>\n",
       "    </tr>\n",
       "    <tr>\n",
       "      <th>2008-01-02 20:59:59.668000000</th>\n",
       "      <td>0.000643</td>\n",
       "      <td>0.931558</td>\n",
       "    </tr>\n",
       "    <tr>\n",
       "      <th>2008-01-02 21:00:00.089000192</th>\n",
       "      <td>0.000643</td>\n",
       "      <td>-0.361013</td>\n",
       "    </tr>\n",
       "    <tr>\n",
       "      <th>2008-01-02 21:01:16.213999616</th>\n",
       "      <td>-0.000804</td>\n",
       "      <td>2.509953</td>\n",
       "    </tr>\n",
       "    <tr>\n",
       "      <th>2008-01-02 21:25:28.845999872</th>\n",
       "      <td>-0.000804</td>\n",
       "      <td>-5.645447</td>\n",
       "    </tr>\n",
       "  </tbody>\n",
       "</table>\n",
       "<p>34710 rows × 2 columns</p>\n",
       "</div>"
      ],
      "text/plain": [
       "                               bid-price  bid-volume\n",
       "time                                                \n",
       "2008-01-02 14:31:59.900999680        NaN   -0.875469\n",
       "2008-01-02 14:31:59.948000000  -0.000770    0.693147\n",
       "2008-01-02 14:31:59.968999936  -0.000771    2.708050\n",
       "2008-01-02 14:32:00.036000000  -0.000154   -0.836248\n",
       "2008-01-02 14:32:00.086000384   0.000771   -1.178655\n",
       "...                                  ...         ...\n",
       "2008-01-02 20:59:59.602999552   0.000643    0.167054\n",
       "2008-01-02 20:59:59.668000000   0.000643    0.931558\n",
       "2008-01-02 21:00:00.089000192   0.000643   -0.361013\n",
       "2008-01-02 21:01:16.213999616  -0.000804    2.509953\n",
       "2008-01-02 21:25:28.845999872  -0.000804   -5.645447\n",
       "\n",
       "[34710 rows x 2 columns]"
      ]
     },
     "execution_count": 57,
     "metadata": {},
     "output_type": "execute_result"
    }
   ],
   "source": [
    "data = data.ffill(axis = 0)\n",
    "data"
   ]
  },
  {
   "cell_type": "code",
   "execution_count": 58,
   "id": "53cea18a",
   "metadata": {},
   "outputs": [
    {
     "data": {
      "text/html": [
       "<div>\n",
       "<style scoped>\n",
       "    .dataframe tbody tr th:only-of-type {\n",
       "        vertical-align: middle;\n",
       "    }\n",
       "\n",
       "    .dataframe tbody tr th {\n",
       "        vertical-align: top;\n",
       "    }\n",
       "\n",
       "    .dataframe thead th {\n",
       "        text-align: right;\n",
       "    }\n",
       "</style>\n",
       "<table border=\"1\" class=\"dataframe\">\n",
       "  <thead>\n",
       "    <tr style=\"text-align: right;\">\n",
       "      <th></th>\n",
       "      <th>Bid Volume Variation</th>\n",
       "      <th>Ask Price</th>\n",
       "      <th>Ask Volume</th>\n",
       "      <th>Bid Price</th>\n",
       "    </tr>\n",
       "    <tr>\n",
       "      <th>time</th>\n",
       "      <th></th>\n",
       "      <th></th>\n",
       "      <th></th>\n",
       "      <th></th>\n",
       "    </tr>\n",
       "  </thead>\n",
       "  <tbody>\n",
       "    <tr>\n",
       "      <th>2008-01-02 14:31:59.968999936</th>\n",
       "      <td>2.708050</td>\n",
       "      <td>65.00</td>\n",
       "      <td>63</td>\n",
       "      <td>64.86</td>\n",
       "    </tr>\n",
       "    <tr>\n",
       "      <th>2008-01-02 14:32:00.036000000</th>\n",
       "      <td>-0.836248</td>\n",
       "      <td>65.00</td>\n",
       "      <td>60</td>\n",
       "      <td>64.85</td>\n",
       "    </tr>\n",
       "    <tr>\n",
       "      <th>2008-01-02 14:32:00.086000384</th>\n",
       "      <td>-1.178655</td>\n",
       "      <td>65.00</td>\n",
       "      <td>60</td>\n",
       "      <td>64.90</td>\n",
       "    </tr>\n",
       "    <tr>\n",
       "      <th>2008-01-02 14:32:00.100000256</th>\n",
       "      <td>1.178655</td>\n",
       "      <td>65.00</td>\n",
       "      <td>60</td>\n",
       "      <td>64.85</td>\n",
       "    </tr>\n",
       "    <tr>\n",
       "      <th>2008-01-02 14:32:00.734000384</th>\n",
       "      <td>-4.290459</td>\n",
       "      <td>64.95</td>\n",
       "      <td>1</td>\n",
       "      <td>64.80</td>\n",
       "    </tr>\n",
       "    <tr>\n",
       "      <th>...</th>\n",
       "      <td>...</td>\n",
       "      <td>...</td>\n",
       "      <td>...</td>\n",
       "      <td>...</td>\n",
       "    </tr>\n",
       "    <tr>\n",
       "      <th>2008-01-02 20:59:41.705000192</th>\n",
       "      <td>3.417727</td>\n",
       "      <td>62.21</td>\n",
       "      <td>1</td>\n",
       "      <td>62.19</td>\n",
       "    </tr>\n",
       "    <tr>\n",
       "      <th>2008-01-02 20:59:53.475000064</th>\n",
       "      <td>2.275556</td>\n",
       "      <td>62.24</td>\n",
       "      <td>1</td>\n",
       "      <td>62.18</td>\n",
       "    </tr>\n",
       "    <tr>\n",
       "      <th>2008-01-02 20:59:55.706000384</th>\n",
       "      <td>-1.938742</td>\n",
       "      <td>62.28</td>\n",
       "      <td>49</td>\n",
       "      <td>62.19</td>\n",
       "    </tr>\n",
       "    <tr>\n",
       "      <th>2008-01-02 20:59:59.514000128</th>\n",
       "      <td>0.095310</td>\n",
       "      <td>62.24</td>\n",
       "      <td>5</td>\n",
       "      <td>62.23</td>\n",
       "    </tr>\n",
       "    <tr>\n",
       "      <th>2008-01-02 21:01:16.213999616</th>\n",
       "      <td>2.509953</td>\n",
       "      <td>62.24</td>\n",
       "      <td>5</td>\n",
       "      <td>62.18</td>\n",
       "    </tr>\n",
       "  </tbody>\n",
       "</table>\n",
       "<p>15348 rows × 4 columns</p>\n",
       "</div>"
      ],
      "text/plain": [
       "                               Bid Volume Variation  Ask Price  Ask Volume  \\\n",
       "time                                                                         \n",
       "2008-01-02 14:31:59.968999936              2.708050      65.00          63   \n",
       "2008-01-02 14:32:00.036000000             -0.836248      65.00          60   \n",
       "2008-01-02 14:32:00.086000384             -1.178655      65.00          60   \n",
       "2008-01-02 14:32:00.100000256              1.178655      65.00          60   \n",
       "2008-01-02 14:32:00.734000384             -4.290459      64.95           1   \n",
       "...                                             ...        ...         ...   \n",
       "2008-01-02 20:59:41.705000192              3.417727      62.21           1   \n",
       "2008-01-02 20:59:53.475000064              2.275556      62.24           1   \n",
       "2008-01-02 20:59:55.706000384             -1.938742      62.28          49   \n",
       "2008-01-02 20:59:59.514000128              0.095310      62.24           5   \n",
       "2008-01-02 21:01:16.213999616              2.509953      62.24           5   \n",
       "\n",
       "                               Bid Price  \n",
       "time                                      \n",
       "2008-01-02 14:31:59.968999936      64.86  \n",
       "2008-01-02 14:32:00.036000000      64.85  \n",
       "2008-01-02 14:32:00.086000384      64.90  \n",
       "2008-01-02 14:32:00.100000256      64.85  \n",
       "2008-01-02 14:32:00.734000384      64.80  \n",
       "...                                  ...  \n",
       "2008-01-02 20:59:41.705000192      62.19  \n",
       "2008-01-02 20:59:53.475000064      62.18  \n",
       "2008-01-02 20:59:55.706000384      62.19  \n",
       "2008-01-02 20:59:59.514000128      62.23  \n",
       "2008-01-02 21:01:16.213999616      62.18  \n",
       "\n",
       "[15348 rows x 4 columns]"
      ]
     },
     "execution_count": 58,
     "metadata": {},
     "output_type": "execute_result"
    }
   ],
   "source": [
    "data_price = data.loc[price_b_var.index].iloc[1:]\n",
    "data_price['Return'] = data_price['bid-price']\n",
    "data_price['Bid Volume Variation'] = data_price['bid-volume']\n",
    "price_b_var[~price_b_var.index.duplicated(keep = 'last')]\n",
    "data_price['Bid Volume'] = dataset['bid-volume'][~dataset.index.duplicated(keep = 'last')]\n",
    "data_price['Ask Price'] = dataset['ask-price'][~dataset.index.duplicated(keep = 'last')]\n",
    "data_price['Ask Volume'] = dataset['ask-volume'][~dataset.index.duplicated(keep = 'last')]\n",
    "data_price['Bid Price'] = dataset['bid-price'][~dataset.index.duplicated(keep = 'last')]\n",
    "del data_price['bid-price']\n",
    "del data_price['bid-volume']\n",
    "del data_price['Return']\n",
    "\n",
    "df = data_price\n",
    "\n",
    "del df['Bid Volume']\n",
    "df"
   ]
  },
  {
   "cell_type": "code",
   "execution_count": 75,
   "id": "c87e5a1f",
   "metadata": {},
   "outputs": [
    {
     "data": {
      "text/plain": [
       "array([64.86, 64.85, 64.9 , ..., 62.19, 62.23, 62.18])"
      ]
     },
     "execution_count": 75,
     "metadata": {},
     "output_type": "execute_result"
    }
   ],
   "source": [
    "bid_price_array = np.array(df['Bid Price'])\n",
    "bid_price_array\n"
   ]
  },
  {
   "cell_type": "code",
   "execution_count": 76,
   "id": "59e1bc7c",
   "metadata": {},
   "outputs": [
    {
     "data": {
      "text/plain": [
       "63.143390018243416"
      ]
     },
     "execution_count": 76,
     "metadata": {},
     "output_type": "execute_result"
    }
   ],
   "source": [
    "np.mean(bid_price_array) # population mean"
   ]
  },
  {
   "cell_type": "code",
   "execution_count": 77,
   "id": "407b775f",
   "metadata": {},
   "outputs": [
    {
     "data": {
      "text/plain": [
       "0.7045604413510109"
      ]
     },
     "execution_count": 77,
     "metadata": {},
     "output_type": "execute_result"
    }
   ],
   "source": [
    "np.std(bid_price_array) # population std"
   ]
  },
  {
   "cell_type": "markdown",
   "id": "ad214ace",
   "metadata": {},
   "source": [
    "We take a random sample from the population!"
   ]
  },
  {
   "cell_type": "code",
   "execution_count": 78,
   "id": "e0810d17",
   "metadata": {},
   "outputs": [
    {
     "data": {
      "text/plain": [
       "63.14517000000001"
      ]
     },
     "execution_count": 78,
     "metadata": {},
     "output_type": "execute_result"
    }
   ],
   "source": [
    "bid_price_array_sample = np.random.choice(bid_price_array, size = 1000)\n",
    "sample_mean = np.mean(bid_price_array_sample)# sample mean\n",
    "sample_mean\n"
   ]
  },
  {
   "cell_type": "code",
   "execution_count": 90,
   "id": "7f36c1e3",
   "metadata": {},
   "outputs": [
    {
     "data": {
      "text/plain": [
       "0.7203272666642572"
      ]
     },
     "execution_count": 90,
     "metadata": {},
     "output_type": "execute_result"
    }
   ],
   "source": [
    "sample_std = np.std(bid_price_array_sample)# sample std\n",
    "sample_std"
   ]
  },
  {
   "cell_type": "markdown",
   "id": "27a44a67",
   "metadata": {},
   "source": [
    "Step 3: bootstrap for 10,000 times"
   ]
  },
  {
   "cell_type": "code",
   "execution_count": 91,
   "id": "1ff1f0a5",
   "metadata": {},
   "outputs": [
    {
     "data": {
      "text/plain": [
       "array([63.14377, 63.16772, 63.13391, ..., 63.18368, 63.18732, 63.11398])"
      ]
     },
     "execution_count": 91,
     "metadata": {},
     "output_type": "execute_result"
    }
   ],
   "source": [
    "boot_means = []\n",
    "for _ in range(10000):\n",
    "    boot_sample = np.random.choice(bid_price_array_sample, replace = True, size = 1000) # take a random sample each iteration\n",
    "    boot_mean = np.mean(boot_sample)# calculate the mean for each iteration\n",
    "    boot_means.append(boot_mean) # append the mean to boot_means\n",
    "boot_means_np = np.array(boot_means) # transform it into a numpy array for calculation\n",
    "\n",
    "(boot_means_np)\n",
    "\n",
    "boot_means_np"
   ]
  },
  {
   "cell_type": "markdown",
   "id": "e418faaa",
   "metadata": {},
   "source": [
    "step 4: analysis and interpretation"
   ]
  },
  {
   "cell_type": "code",
   "execution_count": 92,
   "id": "61605caf",
   "metadata": {},
   "outputs": [
    {
     "data": {
      "text/plain": [
       "63.145008603"
      ]
     },
     "execution_count": 92,
     "metadata": {},
     "output_type": "execute_result"
    }
   ],
   "source": [
    "boot_means = np.mean(boot_means_np)# bootstrapped sample means\n",
    "boot_means"
   ]
  },
  {
   "cell_type": "code",
   "execution_count": 93,
   "id": "29a1eae2",
   "metadata": {},
   "outputs": [
    {
     "data": {
      "text/plain": [
       "63.143390018243416"
      ]
     },
     "execution_count": 93,
     "metadata": {},
     "output_type": "execute_result"
    }
   ],
   "source": [
    "np.mean(bid_price_array)# recall: true population mean"
   ]
  },
  {
   "cell_type": "code",
   "execution_count": 94,
   "id": "61899e8b",
   "metadata": {},
   "outputs": [
    {
     "data": {
      "text/plain": [
       "0.02313362766533581"
      ]
     },
     "execution_count": 94,
     "metadata": {},
     "output_type": "execute_result"
    }
   ],
   "source": [
    "boot_std = np.std(boot_means_np) # bootstrapped std\n",
    "boot_std"
   ]
  },
  {
   "cell_type": "code",
   "execution_count": 96,
   "id": "33370c83",
   "metadata": {},
   "outputs": [
    {
     "data": {
      "text/plain": [
       "<matplotlib.lines.Line2D at 0x223291ca370>"
      ]
     },
     "execution_count": 96,
     "metadata": {},
     "output_type": "execute_result"
    },
    {
     "data": {
      "image/png": "[encoded data removed]",
      "text/plain": [
       "<Figure size 432x288 with 1 Axes>"
      ]
     },
     "metadata": {
      "needs_background": "light"
     },
     "output_type": "display_data"
    }
   ],
   "source": [
    "np.percentile(boot_means_np, [2.5,97.5])# 95% C.I.\n",
    "\n",
    "plt.hist(boot_means_np, alpha = 1)\n",
    "plt.axvline(np.percentile(boot_means_np,2.5),color = 'red',linewidth=2)\n",
    "plt.axvline(np.percentile(boot_means_np,97.5),color = 'red',linewidth=2)"
   ]
  },
  {
   "cell_type": "markdown",
   "id": "3c76278d",
   "metadata": {},
   "source": [
    "## Bootstrap and Standard Errors\n",
    "If you only know a median for a dataset of size 10, how do you calculate the standard error of the median?\n",
    "Follow-up questions of bootstrap:"
   ]
  },
  {
   "cell_type": "code",
   "execution_count": 111,
   "id": "78abf3ea",
   "metadata": {},
   "outputs": [
    {
     "data": {
      "text/plain": [
       "array([64.49, 62.86, 62.56, 63.67, 63.73, 62.59, 63.29, 63.03, 63.07,\n",
       "       62.4 , 65.  , 63.08, 64.66, 62.88, 62.9 , 62.97, 63.57, 62.83,\n",
       "       63.04, 62.32, 62.61, 63.86, 64.97, 63.83, 63.17, 62.32, 64.83,\n",
       "       62.86, 65.  , 62.19, 62.3 , 62.57, 63.15, 64.8 , 62.67, 63.12,\n",
       "       63.82, 62.97, 63.02, 62.55, 64.88, 62.86, 64.74, 62.35, 62.77,\n",
       "       62.68, 64.8 , 64.88, 62.24, 63.87, 62.93, 62.25, 63.51, 62.28,\n",
       "       62.26, 62.52, 63.8 , 62.55, 62.86, 64.11, 62.58, 63.98, 63.93,\n",
       "       63.1 , 63.6 , 63.67, 63.06, 62.29, 63.75, 65.05, 63.65, 63.06,\n",
       "       62.57, 62.76, 63.4 , 62.79, 62.83, 62.51, 62.59, 63.95, 64.73,\n",
       "       62.36, 63.08, 63.58, 62.54, 62.38, 63.92, 62.56, 63.63, 62.77,\n",
       "       63.08, 62.31, 63.69, 62.95, 62.48, 63.97, 62.87, 64.86, 63.41,\n",
       "       62.56, 62.73, 62.85, 63.5 , 62.54, 62.33, 62.23, 62.63, 62.27,\n",
       "       63.61, 63.04, 62.54, 62.68, 62.52, 63.71, 62.38, 62.57, 62.59,\n",
       "       64.96, 62.96, 63.73, 62.72, 63.65, 63.71, 63.27, 62.26, 63.25,\n",
       "       62.56, 63.14, 62.59, 63.67, 62.79, 62.35, 62.26, 62.31, 64.78,\n",
       "       62.36, 62.22, 63.13, 62.39, 63.66, 63.92, 62.53, 62.23, 63.66,\n",
       "       63.7 , 64.34, 64.81, 62.74, 63.72, 62.52, 62.98, 63.88, 62.63,\n",
       "       62.81, 62.92, 62.72, 63.35, 62.83, 63.61, 62.26, 62.3 , 64.74,\n",
       "       62.76, 62.25, 62.59, 62.37, 63.11, 62.89, 62.28, 64.06, 62.55,\n",
       "       63.71, 62.97, 62.27, 63.48, 62.6 , 63.05, 63.17, 62.29, 62.57,\n",
       "       62.24, 62.97, 62.61, 62.21, 62.45, 62.58, 63.53, 62.29, 63.66,\n",
       "       64.81, 62.85, 63.16, 62.81, 64.73, 62.52, 62.9 , 63.68, 64.38,\n",
       "       63.09, 62.43, 62.54, 62.92, 62.59, 62.86, 64.88, 62.75, 62.93,\n",
       "       63.5 , 62.47, 63.72, 63.78, 62.92, 62.85, 62.57, 62.59, 62.92,\n",
       "       62.4 , 62.4 , 64.72, 63.69, 62.57, 63.53, 62.2 , 63.71, 65.  ,\n",
       "       63.26, 62.77, 62.28, 63.12, 63.55, 64.09, 62.5 , 63.87, 63.43,\n",
       "       63.61, 63.38, 63.51, 63.29, 62.78, 64.6 , 62.87, 63.67, 63.  ,\n",
       "       63.67, 63.71, 64.85, 62.87, 64.5 , 62.93, 62.35, 63.66, 62.83,\n",
       "       63.26, 62.57, 62.91, 63.01, 62.28, 62.51, 63.25, 63.13, 62.78,\n",
       "       63.12, 62.26, 62.46, 63.75, 63.15, 62.84, 62.96, 63.49, 63.95,\n",
       "       62.63, 62.83, 62.24, 64.11, 64.98, 62.24, 64.53, 62.42, 64.69,\n",
       "       62.85, 63.05, 62.22, 64.65, 63.68, 62.53, 62.31, 62.34, 63.48,\n",
       "       63.8 , 63.99, 62.56, 63.51, 63.22, 62.28, 63.01, 62.58, 63.19,\n",
       "       62.41, 62.61, 62.26, 62.3 , 62.92, 62.71, 64.01, 62.27, 62.52,\n",
       "       62.94, 62.6 , 63.05, 62.88, 63.73, 62.73, 62.18, 63.16, 63.86,\n",
       "       62.82, 63.7 , 64.49, 62.4 , 62.77, 62.72, 62.76, 62.4 , 63.14,\n",
       "       62.35, 62.57, 63.59, 64.69, 63.9 , 63.72, 63.  , 63.06, 62.2 ,\n",
       "       63.63, 62.27, 64.68, 62.4 , 62.92, 62.77, 64.71, 62.38, 62.96,\n",
       "       62.61, 62.26, 62.62, 62.6 , 63.43, 62.73, 63.89, 64.72, 62.21,\n",
       "       63.7 , 64.85, 62.68, 63.56, 62.91, 63.67, 62.54, 63.07, 63.57,\n",
       "       62.33, 62.46, 62.99, 63.22, 62.8 , 63.68, 63.61, 62.78, 63.55,\n",
       "       62.24, 62.79, 62.4 , 64.8 , 62.99, 62.38, 62.93, 62.8 , 63.73,\n",
       "       62.71, 63.68, 62.74, 62.87, 62.96, 63.62, 63.69, 63.12, 62.97,\n",
       "       64.71, 62.55, 62.86, 62.91, 62.75, 62.54, 63.89, 64.1 , 63.34,\n",
       "       62.95, 62.56, 62.9 , 62.38, 62.58, 63.78, 62.71, 64.11, 62.35,\n",
       "       62.56, 62.96, 62.56, 63.67, 62.75, 65.1 , 63.12, 63.16, 62.6 ,\n",
       "       62.89, 62.82, 63.51, 63.56, 63.98, 64.73, 62.68, 62.86, 62.83,\n",
       "       63.09, 62.74, 62.58, 63.67, 63.67, 63.61, 63.71, 64.86, 62.82,\n",
       "       62.82, 62.54, 62.6 , 62.82, 63.26, 62.25, 63.57, 62.92, 63.28,\n",
       "       62.98, 63.69, 63.39, 62.49, 64.05, 62.72, 62.56, 62.72, 62.37,\n",
       "       63.62, 62.59, 62.67, 62.25, 63.96, 64.65, 62.85, 62.36, 63.99,\n",
       "       63.11, 63.8 , 63.75, 62.81, 63.61, 63.6 , 62.94, 62.93, 62.28,\n",
       "       63.61, 63.23, 63.09, 62.19, 63.6 , 63.57, 62.56, 62.72, 64.7 ,\n",
       "       62.57, 64.68, 62.7 , 62.69, 63.88, 62.79, 63.78, 63.08, 62.54,\n",
       "       63.65, 64.71, 62.96, 62.5 , 64.82, 62.84, 62.54, 62.89, 63.02,\n",
       "       63.58, 62.89, 64.72, 62.88, 63.79, 64.95, 62.52, 62.77, 63.29,\n",
       "       64.35, 63.38, 63.93, 62.95, 63.56, 63.5 , 62.29, 63.7 , 62.29,\n",
       "       63.65, 63.49, 64.72, 63.32, 62.9 , 63.68, 62.74, 62.91, 62.25,\n",
       "       63.63, 64.02, 62.79, 62.87, 62.35, 64.74, 63.56, 62.84, 64.  ,\n",
       "       63.71, 62.67, 62.31, 64.09, 62.55, 62.89, 62.76, 63.31, 62.39,\n",
       "       62.64, 62.37, 63.06, 62.61, 64.6 , 62.7 , 62.21, 63.55, 62.31,\n",
       "       64.58, 64.86, 62.27, 63.87, 62.27, 62.64, 63.94, 63.69, 62.25,\n",
       "       62.27, 62.64, 62.79, 62.63, 62.81, 64.11, 62.82, 62.72, 64.55,\n",
       "       62.51, 63.96, 62.63, 64.76, 62.59, 63.73, 63.66, 62.97, 63.09,\n",
       "       63.1 , 62.96, 62.98, 63.6 , 64.68, 62.81, 63.22, 63.7 , 63.99,\n",
       "       63.07, 63.73, 64.54, 62.63, 63.7 , 63.7 , 63.5 , 62.96, 63.02,\n",
       "       62.93, 62.82, 63.67, 62.87, 63.07, 62.89, 63.52, 62.92, 62.27,\n",
       "       64.75, 62.8 , 62.95, 64.88, 64.31, 63.25, 62.84, 62.79, 65.16,\n",
       "       63.72, 62.51, 63.24, 62.61, 62.6 , 62.94, 62.26, 62.72, 63.69,\n",
       "       62.81, 64.11, 62.32, 62.81, 62.78, 63.9 , 62.79, 63.02, 63.1 ,\n",
       "       62.55, 62.65, 62.59, 63.08, 62.59, 62.29, 62.8 , 63.7 , 63.57,\n",
       "       62.31, 63.11, 62.75, 62.51, 62.54, 63.73, 63.21, 62.85, 62.61,\n",
       "       62.75, 62.91, 64.74, 62.22, 62.99, 63.71, 62.63, 62.87, 64.35,\n",
       "       62.93, 62.57, 63.42, 62.6 , 63.7 , 64.95, 63.56, 63.88, 62.41,\n",
       "       62.56, 62.56, 62.24, 62.27, 62.94, 64.8 , 62.85, 62.76, 63.68,\n",
       "       63.96, 62.71, 63.93, 63.18, 63.66, 64.55, 62.99, 62.58, 63.11,\n",
       "       62.25, 64.36, 65.06, 63.12, 62.88, 63.56, 62.68, 63.16, 62.23,\n",
       "       63.68, 64.14, 62.91, 62.2 , 62.98, 63.58, 63.73, 63.6 , 62.27,\n",
       "       63.01, 62.26, 62.74, 62.83, 62.4 , 63.13, 64.75, 63.67, 63.83,\n",
       "       63.67, 62.63, 62.19, 62.72, 63.71, 63.05, 62.87, 62.61, 62.69,\n",
       "       62.77, 62.64, 62.9 , 62.44, 63.87, 62.34, 63.91, 62.58, 63.95,\n",
       "       62.23, 63.7 , 63.26, 62.58, 63.58, 62.92, 62.3 , 63.7 , 62.24,\n",
       "       62.51, 63.2 , 63.23, 62.86, 63.04, 62.93, 63.92, 64.9 , 62.9 ,\n",
       "       62.59, 64.26, 62.7 , 62.99, 62.71, 63.16, 62.81, 63.71, 63.01,\n",
       "       62.82, 62.32, 62.21, 62.61, 62.72, 63.15, 63.06, 62.97, 62.51,\n",
       "       62.86, 63.78, 62.9 , 63.07, 62.52, 62.2 , 62.77, 64.71, 63.73,\n",
       "       62.52, 64.69, 63.01, 63.74, 62.95, 63.24, 63.67, 64.34, 62.27,\n",
       "       63.35, 62.96, 64.09, 63.03, 64.95, 63.21, 62.39, 62.91, 62.29,\n",
       "       62.57, 63.91, 63.68, 62.69, 65.  , 64.47, 64.69, 62.9 , 63.56,\n",
       "       62.69, 62.82, 62.31, 64.57, 64.74, 62.63, 62.78, 62.92, 62.54,\n",
       "       63.69, 62.57, 63.18, 62.98, 62.39, 63.72, 62.72, 62.18, 62.65,\n",
       "       63.03, 62.77, 63.42, 62.85, 62.6 , 63.66, 62.55, 62.25, 62.8 ,\n",
       "       62.5 , 62.73, 63.7 , 62.95, 62.53, 62.61, 63.19, 62.72, 62.81,\n",
       "       63.42, 62.2 , 62.98, 64.83, 62.75, 62.88, 62.41, 62.59, 62.92,\n",
       "       63.82, 63.21, 62.69, 62.85, 63.96, 62.89, 63.35, 62.94, 62.56,\n",
       "       62.42, 63.82, 62.88, 62.78, 62.61, 62.71, 63.01, 62.62, 63.71,\n",
       "       62.69, 62.8 , 62.92, 62.5 , 62.67, 62.99, 62.98, 63.85, 62.81,\n",
       "       62.84, 62.25, 64.77, 63.76, 63.32, 62.84, 64.48, 64.97, 62.86,\n",
       "       63.04, 63.2 , 62.85, 62.32, 63.4 , 62.58, 62.51, 64.  , 62.58,\n",
       "       63.78, 63.4 , 64.53, 62.94, 64.78, 62.89, 65.  , 63.57, 63.18,\n",
       "       63.19, 63.92, 63.7 , 62.28, 64.77, 64.9 , 62.36, 63.96, 63.7 ,\n",
       "       63.5 , 63.81, 62.99, 63.71, 63.35, 62.66, 62.8 , 62.53, 62.74,\n",
       "       64.65, 62.59, 62.86, 62.81, 62.44, 63.61, 62.56, 64.48, 62.33,\n",
       "       64.14, 62.75, 63.15, 63.54, 63.45, 62.62, 62.43, 62.69, 63.27,\n",
       "       62.95, 64.71, 62.7 , 62.77, 62.98, 63.48, 62.64, 62.41, 62.6 ,\n",
       "       63.26, 62.29, 64.1 , 62.81, 62.82, 62.98, 62.48, 63.67, 62.93,\n",
       "       62.32, 63.7 , 62.88, 62.78, 63.61, 62.8 , 63.84, 63.72, 62.58,\n",
       "       62.69, 62.99, 62.63, 65.16, 62.62, 63.47, 63.86, 62.84, 62.84,\n",
       "       62.81, 63.74, 63.68, 62.29, 63.26, 63.15, 63.08, 64.5 , 62.84,\n",
       "       63.74, 64.03, 63.14, 62.78, 62.73, 63.09, 62.69, 63.69, 62.5 ,\n",
       "       62.23, 62.59, 63.68, 62.98, 63.68, 62.56, 63.63, 63.62, 63.7 ,\n",
       "       62.56])"
      ]
     },
     "execution_count": 111,
     "metadata": {},
     "output_type": "execute_result"
    }
   ],
   "source": [
    "import numpy as np \n",
    "# step 0: generate a population distribution of 100 elements\n",
    "\n",
    "pop = np.array(df['Bid Price'])\n",
    "\n",
    "# step 1: take a random sample of size 10\n",
    "sample_1= np.random.choice(pop,1000)\n",
    "sample_1"
   ]
  },
  {
   "cell_type": "code",
   "execution_count": 112,
   "id": "b46a6609",
   "metadata": {},
   "outputs": [],
   "source": [
    "def median_value(some):\n",
    "    \n",
    "    n = len(some)\n",
    "    \n",
    "    some.sort()\n",
    "    \n",
    "    if n % 2 == 0: \n",
    "        median1 = some[n//2]\n",
    "        median2 = some[n//2-1]\n",
    "        median = (median1+median2)/2\n",
    "    \n",
    "    else: \n",
    "        median = some[n//2]\n",
    "        \n",
    "    return median "
   ]
  },
  {
   "cell_type": "code",
   "execution_count": 113,
   "id": "6f1b79ab",
   "metadata": {},
   "outputs": [
    {
     "data": {
      "text/plain": [
       "62.94"
      ]
     },
     "execution_count": 113,
     "metadata": {},
     "output_type": "execute_result"
    }
   ],
   "source": [
    "median_value(sample_1)"
   ]
  },
  {
   "cell_type": "code",
   "execution_count": 118,
   "id": "87c8c3ec",
   "metadata": {},
   "outputs": [],
   "source": [
    "# step 3: repeatedly sample from the sample (sample_1) with replacement with the same sample size, aka. bootstrap\n",
    "\n",
    "boot_sample_medians = []\n",
    "\n",
    "for i in range(10000):\n",
    "    \n",
    "    boot_sample = np.random.choice(sample_1,replace = True, size = 1000)\n",
    "    \n",
    "    boot_median = median_value(boot_sample)\n",
    "    \n",
    "    boot_sample_medians.append(boot_median)"
   ]
  },
  {
   "cell_type": "code",
   "execution_count": 119,
   "id": "9428e9f7",
   "metadata": {},
   "outputs": [
    {
     "data": {
      "text/plain": [
       "0.019750643027506763"
      ]
     },
     "execution_count": 119,
     "metadata": {},
     "output_type": "execute_result"
    }
   ],
   "source": [
    "# step 4: stand error and confidence interval  \n",
    "# std\n",
    "np.std(boot_sample_medians)"
   ]
  },
  {
   "cell_type": "code",
   "execution_count": 120,
   "id": "de69e97c",
   "metadata": {},
   "outputs": [
    {
     "data": {
      "text/plain": [
       "62.940109999999486"
      ]
     },
     "execution_count": 120,
     "metadata": {},
     "output_type": "execute_result"
    }
   ],
   "source": [
    "sum(boot_sample_medians)/len(boot_sample_medians) # the mean value of repeated samples' median values"
   ]
  },
  {
   "cell_type": "code",
   "execution_count": 121,
   "id": "62f44651",
   "metadata": {},
   "outputs": [
    {
     "data": {
      "text/plain": [
       "array([62.905, 62.98 ])"
      ]
     },
     "execution_count": 121,
     "metadata": {},
     "output_type": "execute_result"
    }
   ],
   "source": [
    "# C.I.\n",
    "# wide CI for small sample sizes, b/c of limited sampling possibilities and large variation\n",
    "boot_median_CI = np.percentile(boot_sample_medians, [2.5,97.5])\n",
    "boot_median_CI"
   ]
  }
 ],
 "metadata": {
  "interpreter": {
   "hash": "e4cce46d6be9934fbd27f9ca0432556941ea5bdf741d4f4d64c6cd7f8dfa8fba"
  },
  "kernelspec": {
   "display_name": "Python 3.8.3 ('base')",
   "language": "python",
   "name": "python3"
  },
  "language_info": {
   "codemirror_mode": {
    "name": "ipython",
    "version": 3
   },
   "file_extension": ".py",
   "mimetype": "text/x-python",
   "name": "python",
   "nbconvert_exporter": "python",
   "pygments_lexer": "ipython3",
   "version": "3.8.3"
  }
 },
 "nbformat": 4,
 "nbformat_minor": 5
}
